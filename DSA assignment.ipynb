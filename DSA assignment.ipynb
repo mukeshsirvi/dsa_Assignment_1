{
 "cells": [
  {
   "cell_type": "markdown",
   "id": "678e5f1b",
   "metadata": {},
   "source": [
    "Q1. Write a program to find all pairs of an integer array whose sum is equal to a given number?"
   ]
  },
  {
   "cell_type": "code",
   "execution_count": 1,
   "id": "82fc8fdb",
   "metadata": {},
   "outputs": [],
   "source": [
    "def printpairs(arr,sum):\n",
    "    for i in range(len(arr)):\n",
    "        for j in range(i+1,len(arr)):\n",
    "            if arr[i]+arr[j]==sum:\n",
    "                print(arr[i],arr[j])"
   ]
  },
  {
   "cell_type": "code",
   "execution_count": 2,
   "id": "a53d6120",
   "metadata": {},
   "outputs": [
    {
     "name": "stdout",
     "output_type": "stream",
     "text": [
      "1 5\n",
      "1 5\n",
      "7 -1\n",
      "2 4\n"
     ]
    }
   ],
   "source": [
    "arr=[1,5,7,5,-1,2,4]\n",
    "sum=6\n",
    "printpairs(arr,sum)"
   ]
  },
  {
   "cell_type": "markdown",
   "id": "50500e95",
   "metadata": {},
   "source": [
    "Q2. Write a program to reverse an array in place? In place means you cannot create a new array. You have to update the original array."
   ]
  },
  {
   "cell_type": "code",
   "execution_count": 3,
   "id": "297d791c",
   "metadata": {},
   "outputs": [],
   "source": [
    "# first program\n",
    "def reverse_array(arr):\n",
    "    empty_array=[]\n",
    "    if len(arr)>0:\n",
    "        for i in range(1,len(arr)+1):\n",
    "            empty_array.append(arr[len(arr)-i])\n",
    "    \n",
    "        print(empty_array)\n",
    "    else:\n",
    "        print(\"Input array is empty\")\n",
    "    "
   ]
  },
  {
   "cell_type": "code",
   "execution_count": 4,
   "id": "b3cdbd28",
   "metadata": {},
   "outputs": [
    {
     "name": "stdout",
     "output_type": "stream",
     "text": [
      "[2, 47, 85, 45, 3, 2, 1]\n"
     ]
    }
   ],
   "source": [
    "arr=[1,2,3,45,85,47,2]\n",
    "reverse_array(arr)"
   ]
  },
  {
   "cell_type": "code",
   "execution_count": 5,
   "id": "45b4aec0",
   "metadata": {},
   "outputs": [],
   "source": [
    "# second program\n",
    "def reverse_array_2(arr):\n",
    "    s=0\n",
    "    e=len(arr)-1\n",
    "    while s<e:\n",
    "        arr[s],arr[e]=arr[e],arr[s]\n",
    "        s+=1\n",
    "        e-=1\n",
    "        \n",
    "    print(arr)"
   ]
  },
  {
   "cell_type": "code",
   "execution_count": 6,
   "id": "d4bb3549",
   "metadata": {},
   "outputs": [
    {
     "name": "stdout",
     "output_type": "stream",
     "text": [
      "[2, 47, 85, 45, 3, 2, 1]\n"
     ]
    }
   ],
   "source": [
    "reverse_array_2(arr)"
   ]
  },
  {
   "cell_type": "markdown",
   "id": "bfbbc852",
   "metadata": {},
   "source": [
    "Q3. Write a program to check if two strings are a rotation of each other?"
   ]
  },
  {
   "cell_type": "code",
   "execution_count": 7,
   "id": "9f8f7235",
   "metadata": {},
   "outputs": [
    {
     "data": {
      "text/plain": [
       "'rotation'"
      ]
     },
     "execution_count": 7,
     "metadata": {},
     "output_type": "execute_result"
    }
   ],
   "source": [
    "def areRotations(string1, string2):\n",
    "    size1 = len(string1)\n",
    "    size2 = len(string2)\n",
    "    temp = ''\n",
    " \n",
    "    if size1 != size2:\n",
    "        return 0\n",
    " \n",
    "    temp = string1 + string1\n",
    " \n",
    "    if (temp.count(string2)> 0):\n",
    "        return \"rotation\"\n",
    "    else:\n",
    "        return \"not rotation\"\n",
    "\n",
    "string1 = \"AACD\"\n",
    "string2 = \"ACDA\"\n",
    "areRotations(string1,string2)"
   ]
  },
  {
   "cell_type": "code",
   "execution_count": 8,
   "id": "d1aaca50",
   "metadata": {},
   "outputs": [
    {
     "data": {
      "text/plain": [
       "'not rotation'"
      ]
     },
     "execution_count": 8,
     "metadata": {},
     "output_type": "execute_result"
    }
   ],
   "source": [
    "s1=\"mukesh\"\n",
    "s2=\"keshml\"\n",
    "areRotations(s1,s2)"
   ]
  },
  {
   "cell_type": "markdown",
   "id": "ab4b5225",
   "metadata": {},
   "source": [
    "Q4. Write a program to print the first non-repeated character from a string?"
   ]
  },
  {
   "cell_type": "code",
   "execution_count": 9,
   "id": "5276753b",
   "metadata": {},
   "outputs": [],
   "source": [
    "def non_repeated(s):\n",
    "\n",
    "    for i in s:\n",
    "        a=[]\n",
    "        y=s.count(i)\n",
    "        a.append(y)\n",
    "        for j in range(len(a)):\n",
    "            if a[j]==1:\n",
    "                return i      \n",
    "            "
   ]
  },
  {
   "cell_type": "code",
   "execution_count": 10,
   "id": "7556c04d",
   "metadata": {},
   "outputs": [
    {
     "data": {
      "text/plain": [
       "'f'"
      ]
     },
     "execution_count": 10,
     "metadata": {},
     "output_type": "execute_result"
    }
   ],
   "source": [
    "s=\"geeksforgeeks\"\n",
    "non_repeated(s)"
   ]
  },
  {
   "cell_type": "markdown",
   "id": "21fb141e",
   "metadata": {},
   "source": [
    "Q5. Read about the Tower of Hanoi algorithm. Write a program to implement it."
   ]
  },
  {
   "cell_type": "code",
   "execution_count": 11,
   "id": "e7a4f6a8",
   "metadata": {},
   "outputs": [
    {
     "name": "stdout",
     "output_type": "stream",
     "text": [
      "Enter Number of disks : 3\n",
      "MOVE DISK 1 FROM A TO C\n",
      "MOVE DISK 2 FROM A TO B\n",
      "MOVE DISK 1 FROM C TO B\n",
      "MOVE DISK 3 FROM A TO C\n",
      "MOVE DISK 1 FROM B TO A\n",
      "MOVE DISK 2 FROM B TO C\n",
      "MOVE DISK 1 FROM A TO C\n"
     ]
    }
   ],
   "source": [
    "def Tower_Hanoi(n,source,destination,middle):\n",
    "    if n<1:\n",
    "        print(\"Not Possible\")\n",
    "        return\n",
    "    if n==1:\n",
    "        print(\"MOVE DISK {} FROM {} TO {}\".format(n,source,destination))\n",
    "        return \n",
    "    Tower_Hanoi(n-1,source,middle,destination)\n",
    "    print(\"MOVE DISK {} FROM {} TO {}\".format(n,source,destination))\n",
    "    Tower_Hanoi(n-1,middle,destination,source)\n",
    "\n",
    "n=int(input(\"Enter Number of disks : \"))\n",
    "Tower_Hanoi(n,\"A\",\"C\",\"B\")\n",
    "    \n",
    "    "
   ]
  },
  {
   "cell_type": "markdown",
   "id": "327c1a38",
   "metadata": {},
   "source": [
    "Q6. Read about infix, prefix, and postfix expressions. Write a program to convert postfix to prefix expression."
   ]
  },
  {
   "cell_type": "code",
   "execution_count": 12,
   "id": "6a42000b",
   "metadata": {},
   "outputs": [],
   "source": [
    "def isOperator(x):\n",
    " \n",
    "    if x == \"+\":\n",
    "        return True\n",
    " \n",
    "    if x == \"-\":\n",
    "        return True\n",
    " \n",
    "    if x == \"/\":\n",
    "        return True\n",
    " \n",
    "    if x == \"*\":\n",
    "        return True\n",
    " \n",
    "    return False\n",
    " \n",
    "# Convert postfix to Prefix expression\n",
    " \n",
    "def postToPre(post_exp):\n",
    " \n",
    "    s = []\n",
    " \n",
    "    length = len(post_exp)\n",
    " \n",
    "    for i in range(length):\n",
    " \n",
    "        if (isOperator(post_exp[i])):\n",
    " \n",
    "            op1 = s[-1]\n",
    "            s.pop()\n",
    "            op2 = s[-1]\n",
    "            s.pop()\n",
    " \n",
    "            temp = post_exp[i] + op2 + op1\n",
    " \n",
    "            s.append(temp)\n",
    " \n",
    "        else:\n",
    " \n",
    "            s.append(post_exp[i])\n",
    " \n",
    "    \n",
    "    ans = \"\"\n",
    "    for i in s:\n",
    "        ans += i\n",
    "    return ans"
   ]
  },
  {
   "cell_type": "code",
   "execution_count": 13,
   "id": "9012c6d2",
   "metadata": {},
   "outputs": [
    {
     "data": {
      "text/plain": [
       "'*+AB-CD'"
      ]
     },
     "execution_count": 13,
     "metadata": {},
     "output_type": "execute_result"
    }
   ],
   "source": [
    "postToPre(\"AB+CD-*\")"
   ]
  },
  {
   "cell_type": "markdown",
   "id": "610d4768",
   "metadata": {},
   "source": [
    "Q7. Write a program to convert prefix expression to infix expression."
   ]
  },
  {
   "cell_type": "code",
   "execution_count": 14,
   "id": "30c4f0cf",
   "metadata": {},
   "outputs": [],
   "source": [
    "def prefixToInfix(prefix):\n",
    "    stack = []\n",
    "     \n",
    "    i = len(prefix) - 1\n",
    "    while i >= 0:\n",
    "        if not isOperator(prefix[i]):\n",
    "             \n",
    "            stack.append(prefix[i])\n",
    "            i -= 1\n",
    "        else:\n",
    "           \n",
    "    \n",
    "            str = \"(\" + stack.pop() + prefix[i] + stack.pop() + \")\"\n",
    "            stack.append(str)\n",
    "            i -= 1\n",
    "     \n",
    "    return stack.pop()\n",
    " \n",
    "def isOperator(c):\n",
    "    if c == \"*\" or c == \"+\" or c == \"-\" or c == \"/\" or c == \"^\" or c == \"(\" or c == \")\":\n",
    "        return True\n",
    "    else:\n",
    "        return False"
   ]
  },
  {
   "cell_type": "code",
   "execution_count": 15,
   "id": "9f1a09fc",
   "metadata": {},
   "outputs": [
    {
     "data": {
      "text/plain": [
       "'((a+b)*(c-d))'"
      ]
     },
     "execution_count": 15,
     "metadata": {},
     "output_type": "execute_result"
    }
   ],
   "source": [
    "prefixToInfix(\"*+ab-cd\")"
   ]
  },
  {
   "cell_type": "markdown",
   "id": "c2240d60",
   "metadata": {},
   "source": [
    "Q8. Write a program to check if all the brackets are closed in a given code snippet."
   ]
  },
  {
   "cell_type": "code",
   "execution_count": 16,
   "id": "3ae1a103",
   "metadata": {},
   "outputs": [],
   "source": [
    "def areBracketsBalanced(expr):\n",
    "    stack = []\n",
    " \n",
    "    # Traversing the Expression\n",
    "    for char in expr:\n",
    "        if char in [\"(\", \"{\", \"[\"]:\n",
    " \n",
    "            # Push the element in the stack\n",
    "            stack.append(char)\n",
    "        else:\n",
    " \n",
    "           \n",
    "            if not stack:\n",
    "                return False\n",
    "            current_char = stack.pop()\n",
    "            if current_char == '(':\n",
    "                if char != \")\":\n",
    "                    return False\n",
    "            if current_char == '{':\n",
    "                if char != \"}\":\n",
    "                    return False\n",
    "            if current_char == '[':\n",
    "                if char != \"]\":\n",
    "                    return False\n",
    " \n",
    "    # Check Empty Stack\n",
    "    if stack:\n",
    "        return False\n",
    "    return True\n",
    " "
   ]
  },
  {
   "cell_type": "code",
   "execution_count": 17,
   "id": "ec61e9e7",
   "metadata": {},
   "outputs": [
    {
     "data": {
      "text/plain": [
       "True"
      ]
     },
     "execution_count": 17,
     "metadata": {},
     "output_type": "execute_result"
    }
   ],
   "source": [
    "areBracketsBalanced(\"{([])}\")"
   ]
  },
  {
   "cell_type": "code",
   "execution_count": 18,
   "id": "eec50684",
   "metadata": {},
   "outputs": [
    {
     "data": {
      "text/plain": [
       "False"
      ]
     },
     "execution_count": 18,
     "metadata": {},
     "output_type": "execute_result"
    }
   ],
   "source": [
    "areBracketsBalanced(\"{]()}\")"
   ]
  },
  {
   "cell_type": "markdown",
   "id": "157076c4",
   "metadata": {},
   "source": [
    "Q9. Write a program to reverse a stack."
   ]
  },
  {
   "cell_type": "code",
   "execution_count": 19,
   "id": "33a0350b",
   "metadata": {},
   "outputs": [
    {
     "name": "stdout",
     "output_type": "stream",
     "text": [
      "Original Stack\n",
      "5\n",
      "4\n",
      "3\n",
      "2\n",
      "1\n",
      "\n",
      "Stack after Reversing\n",
      "1\n",
      "2\n",
      "3\n",
      "4\n",
      "5\n"
     ]
    }
   ],
   "source": [
    "class Stack:\n",
    "\n",
    "    def __init__(self):\n",
    "        self.Elements = []\n",
    "\n",
    "    def push(self, value):\n",
    "        self.Elements.append(value)\n",
    "        \n",
    "    def pop(self):\n",
    "        return self.Elements.pop()\n",
    "    \n",
    "    def empty(self):\n",
    "        return self.Elements == []\n",
    "\n",
    "    def show(self):\n",
    "        for value in reversed(self.Elements):\n",
    "            print(value)\n",
    "\n",
    "def BottomInsert(s, value):\n",
    "\n",
    "    if s.empty():\n",
    "\n",
    "        s.push(value)\n",
    "\n",
    "    else:\n",
    "        popped = s.pop()\n",
    "        BottomInsert(s, value)\n",
    "        s.push(popped)\n",
    "\n",
    "def Reverse(s):\n",
    "    if s.empty():\n",
    "        pass\n",
    "    else:\n",
    "        popped = s.pop()\n",
    "        Reverse(s)\n",
    "        BottomInsert(s, popped)\n",
    "\n",
    "stk = Stack()\n",
    "\n",
    "stk.push(1)\n",
    "stk.push(2)\n",
    "stk.push(3)\n",
    "stk.push(4)\n",
    "stk.push(5)\n",
    "\n",
    "print(\"Original Stack\")\n",
    "stk.show()\n",
    "\n",
    "print(\"\\nStack after Reversing\")\n",
    "Reverse(stk)\n",
    "stk.show()"
   ]
  },
  {
   "cell_type": "markdown",
   "id": "bc6c85a6",
   "metadata": {},
   "source": [
    "Q10. Write a program to find the smallest number using a stack."
   ]
  },
  {
   "cell_type": "code",
   "execution_count": 20,
   "id": "fddf469a",
   "metadata": {},
   "outputs": [
    {
     "name": "stdout",
     "output_type": "stream",
     "text": [
      "How many numbers: 7\n",
      "Enter number: 4\n",
      "Enter number: 8\n",
      "Enter number: 7\n",
      "Enter number: 6\n",
      "Enter number: 2\n",
      "Enter number: 5\n",
      "Enter number: 9\n",
      "Smallest number in the list is :   2\n"
     ]
    }
   ],
   "source": [
    "First = []\n",
    "num = int(input('How many numbers: '))\n",
    "\n",
    "for n in range(num):\n",
    "    numbers = int(input('Enter number: '))\n",
    "    First.append(numbers)\n",
    "    \n",
    "print(\"Smallest number in the list is :  \", min(First))\n",
    "            \n",
    "    "
   ]
  },
  {
   "cell_type": "code",
   "execution_count": null,
   "id": "626570d1",
   "metadata": {},
   "outputs": [],
   "source": []
  }
 ],
 "metadata": {
  "kernelspec": {
   "display_name": "Python 3 (ipykernel)",
   "language": "python",
   "name": "python3"
  },
  "language_info": {
   "codemirror_mode": {
    "name": "ipython",
    "version": 3
   },
   "file_extension": ".py",
   "mimetype": "text/x-python",
   "name": "python",
   "nbconvert_exporter": "python",
   "pygments_lexer": "ipython3",
   "version": "3.10.1"
  }
 },
 "nbformat": 4,
 "nbformat_minor": 5
}
